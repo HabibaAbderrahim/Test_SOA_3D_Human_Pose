{
  "nbformat": 4,
  "nbformat_minor": 0,
  "metadata": {
    "colab": {
      "provenance": [],
      "authorship_tag": "ABX9TyMnTqVQ+lA4UscVvHvgf8bc",
      "include_colab_link": true
    },
    "kernelspec": {
      "name": "python3",
      "display_name": "Python 3"
    },
    "language_info": {
      "name": "python"
    }
  },
  "cells": [
    {
      "cell_type": "markdown",
      "metadata": {
        "id": "view-in-github",
        "colab_type": "text"
      },
      "source": [
        "<a href=\"https://colab.research.google.com/github/HabibaAbderrahim/Test_SOA_3D_Human_Pose/blob/main/coco_keys.ipynb\" target=\"_parent\"><img src=\"https://colab.research.google.com/assets/colab-badge.svg\" alt=\"Open In Colab\"/></a>"
      ]
    },
    {
      "cell_type": "code",
      "execution_count": null,
      "metadata": {
        "id": "HQGT585mAvgf"
      },
      "outputs": [],
      "source": [
        "import json\n",
        "\n",
        "def map_keypoints(keypoints):\n",
        "    # COCO keypoints mapping dictionary\n",
        "    coco_keypoints = {\n",
        "        0: \"nose\",\n",
        "        1: \"left_eye\",\n",
        "        2: \"right_eye\",\n",
        "        3: \"left_ear\",\n",
        "        4: \"right_ear\",\n",
        "        5: \"left_shoulder\",\n",
        "        6: \"right_shoulder\",\n",
        "        7: \"left_elbow\",\n",
        "        8: \"right_elbow\",\n",
        "        9: \"left_wrist\",\n",
        "        10: \"right_wrist\",\n",
        "        11: \"left_hip\",\n",
        "        12: \"right_hip\",\n",
        "        13: \"left_knee\",\n",
        "        14: \"right_knee\",\n",
        "        15: \"left_ankle\",\n",
        "        16: \"right_ankle\",\n",
        "    }\n",
        "\n",
        "    mapped_keypoints = {}\n",
        "\n",
        "    for i, (keypoint, score) in enumerate(zip(keypoints[0]['keypoints'], keypoints[0]['keypoint_scores'])):\n",
        "        if score > 0.5:  # Adjust the threshold based on your confidence level\n",
        "            part_name = coco_keypoints.get(i, f\"keypoint_{i}\")\n",
        "            mapped_keypoints[part_name] = keypoint\n",
        "\n",
        "    return mapped_keypoints\n",
        "\n",
        "# Your given keypoints\n",
        "given_keypoints = [\n",
        "    [{\n",
        "        \"keypoints\": [\n",
        "            [-0.0, 0.0, 0.6314282417297363], [0.10871679335832596, 0.07088106125593185, 0.6354875564575195], [0.1409938931465149, -0.30314338207244873, 0.3504978120326996], [0.24280871450901031, -0.668942391872406, 0.0], [-0.10682397335767746, -0.07173538208007812, 0.6249099373817444], [0.004531982354819775, -0.29570236802101135, 0.3512197434902191], [0.11980065703392029, -0.6486238837242126, 0.09616714715957642], [-0.02022363245487213, 0.02604137361049652, 0.8720786571502686], [-0.03475122153759003, 0.0159448329359293, 1.1209635734558105], [0.02432580478489399, -0.04110144078731537, 1.239691972732544], [0.025189941748976707, 0.06436946243047714, 1.2841882705688477], [-0.19108203053474426, -0.035049114376306534, 1.114911437034607], [-0.31377148628234863, -0.22417284548282623, 1.182039737701416], [-0.2486286610364914, -0.014061921276152134, 1.2411044836044312], [0.11426123231649399, 0.068660669028759, 1.1048368215560913],\n",
        "            [0.34825220704078674, -0.00033552266540937126, 1.181580662727356], [0.2864392101764679, -0.1491343080997467, 1.1780548095703125]\n",
        "\n",
        "        ],\n",
        "        \"keypoint_scores\": [1.0, 1.0, 1.0, 1.0, 1.0, 1.0, 1.0, 1.0, 1.0, 1.0, 1.0, 1.0, 1.0, 1.0, 1.0, 1.0, 1.0]\n",
        "    }]\n",
        "]\n",
        "\n",
        "# Map the keypoints\n",
        "mapped_keypoints = map_keypoints(given_keypoints)\n",
        "\n",
        "# Define the path to save the JSON file\n",
        "save_path = \"C:/Users/heubu/Downloads/test/mmpose/keypoints_mapped.json\"\n",
        "\n",
        "# Save the mapped keypoints into a JSON file\n",
        "with open(save_path, 'w') as json_file:\n",
        "    json.dump(mapped_keypoints, json_file, indent=4)  # Save with indentation for readability\n"
      ]
    }
  ]
}