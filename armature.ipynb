{
  "nbformat": 4,
  "nbformat_minor": 0,
  "metadata": {
    "colab": {
      "provenance": [],
      "authorship_tag": "ABX9TyNKM/J/YMBU7hPmbXOjmddV",
      "include_colab_link": true
    },
    "kernelspec": {
      "name": "python3",
      "display_name": "Python 3"
    },
    "language_info": {
      "name": "python"
    }
  },
  "cells": [
    {
      "cell_type": "markdown",
      "metadata": {
        "id": "view-in-github",
        "colab_type": "text"
      },
      "source": [
        "<a href=\"https://colab.research.google.com/github/HabibaAbderrahim/Test_SOA_3D_Human_Pose/blob/main/armature.ipynb\" target=\"_parent\"><img src=\"https://colab.research.google.com/assets/colab-badge.svg\" alt=\"Open In Colab\"/></a>"
      ]
    },
    {
      "cell_type": "code",
      "source": [
        "! pip install bpy"
      ],
      "metadata": {
        "colab": {
          "base_uri": "https://localhost:8080/"
        },
        "id": "Vrdt_Cs9rf8G",
        "outputId": "37df7cef-c37b-452f-818c-a295bab61ec2"
      },
      "execution_count": 2,
      "outputs": [
        {
          "output_type": "stream",
          "name": "stdout",
          "text": [
            "Collecting bpy\n",
            "  Downloading bpy-4.0.0-cp310-cp310-manylinux_2_28_x86_64.whl (390.1 MB)\n",
            "\u001b[2K     \u001b[90m━━━━━━━━━━━━━━━━━━━━━━━━━━━━━━━━━━━━━━━━\u001b[0m \u001b[32m390.1/390.1 MB\u001b[0m \u001b[31m1.4 MB/s\u001b[0m eta \u001b[36m0:00:00\u001b[0m\n",
            "\u001b[?25hRequirement already satisfied: cython in /usr/local/lib/python3.10/dist-packages (from bpy) (3.0.6)\n",
            "Requirement already satisfied: numpy in /usr/local/lib/python3.10/dist-packages (from bpy) (1.23.5)\n",
            "Requirement already satisfied: requests in /usr/local/lib/python3.10/dist-packages (from bpy) (2.31.0)\n",
            "Collecting zstandard (from bpy)\n",
            "  Downloading zstandard-0.22.0-cp310-cp310-manylinux_2_17_x86_64.manylinux2014_x86_64.whl (5.4 MB)\n",
            "\u001b[2K     \u001b[90m━━━━━━━━━━━━━━━━━━━━━━━━━━━━━━━━━━━━━━━━\u001b[0m \u001b[32m5.4/5.4 MB\u001b[0m \u001b[31m2.4 MB/s\u001b[0m eta \u001b[36m0:00:00\u001b[0m\n",
            "\u001b[?25hRequirement already satisfied: charset-normalizer<4,>=2 in /usr/local/lib/python3.10/dist-packages (from requests->bpy) (3.3.2)\n",
            "Requirement already satisfied: idna<4,>=2.5 in /usr/local/lib/python3.10/dist-packages (from requests->bpy) (3.6)\n",
            "Requirement already satisfied: urllib3<3,>=1.21.1 in /usr/local/lib/python3.10/dist-packages (from requests->bpy) (2.0.7)\n",
            "Requirement already satisfied: certifi>=2017.4.17 in /usr/local/lib/python3.10/dist-packages (from requests->bpy) (2023.11.17)\n",
            "Installing collected packages: zstandard, bpy\n",
            "Successfully installed bpy-4.0.0 zstandard-0.22.0\n"
          ]
        }
      ]
    },
    {
      "cell_type": "code",
      "execution_count": 3,
      "metadata": {
        "id": "v1-0w36hreTo"
      },
      "outputs": [],
      "source": [
        "import bpy"
      ]
    },
    {
      "cell_type": "markdown",
      "source": [
        "**Custom mapping between the keypoints from your dataset and the corresponding bone names in Blender's armature**"
      ],
      "metadata": {
        "id": "_6jbgA_pr0gj"
      }
    },
    {
      "cell_type": "code",
      "source": [
        "# print all objects\n",
        "for obj in bpy.data.objects:\n",
        "    print(obj.name)"
      ],
      "metadata": {
        "colab": {
          "base_uri": "https://localhost:8080/"
        },
        "id": "Wj74HWF6rpD5",
        "outputId": "ed8604a3-f095-460f-d604-5bdc250d088b"
      },
      "execution_count": 4,
      "outputs": [
        {
          "output_type": "stream",
          "name": "stdout",
          "text": [
            "Camera\n",
            "Cube\n",
            "Light\n"
          ]
        }
      ]
    },
    {
      "cell_type": "code",
      "source": [
        "# Custom mapping between keypoints and Blender armature bones\n",
        "keypoint_mapping = {\n",
        "    'Pelvis': 'Armature.001_Pelvis',\n",
        "    'Right Hip': 'Armature.001_Hip_R',\n",
        "    'Right Knee': 'Armature.001_Knee_R',\n",
        "    'Right Ankle': 'Armature.001_Ankle_R',\n",
        "    'Left Hip': 'Armature.001_Hip_L',\n",
        "    'Left Knee': 'Armature.001_Knee_L',\n",
        "    'Left Ankle': 'Armature.001_Ankle_L',\n",
        "    'Thoracic': 'Armature.001_Thoracic',\n",
        "    'Sternum': 'Armature.001_Sternum',\n",
        "    'Neck': 'Armature.001_Neck',\n",
        "    'Head': 'Armature.001_Head',\n",
        "    'Right Shoulder': 'Armature.001_Shoulder_R',\n",
        "    'Right Elbow': 'Armature.001_Elbow_R',\n",
        "    'Right Wrist': 'Armature.001_Wrist_R',\n",
        "    'Left Shoulder': 'Armature.001_Shoulder_L',\n",
        "    'Left Elbow': 'Armature.001_Elbow_L',\n",
        "    'Left Wrist': 'Armature.001_Wrist_L',\n",
        "}\n"
      ],
      "metadata": {
        "id": "pNgrJHHgtTNW"
      },
      "execution_count": 9,
      "outputs": []
    },
    {
      "cell_type": "markdown",
      "source": [
        "replace them with the actual names of the bones in your Blender armature. You can find the bone names by selecting the armature in Blender, entering Pose Mode, and selecting each bone."
      ],
      "metadata": {
        "id": "yNvWvHHRwAED"
      }
    },
    {
      "cell_type": "code",
      "source": [
        "# Keypoint coordinates\n",
        "keypoints = [\n",
        "    [-0.0, 0.0, 0.22871264815330505],\n",
        "    [0.0893709734082222, 0.13970543444156647, 0.23328405618667603],\n",
        "    [0.45591625571250916, -0.09024415910243988, 0.1627790629863739],\n",
        "    [0.08048535138368607, 0.10245823860168457, 0.18703943490982056],\n",
        "    [-0.09170019626617432, -0.13583004474639893, 0.2244565486907959],\n",
        "    [-0.48057764768600464, -0.2391510158777237, 0.0],\n",
        "    [-0.64947509765625, 0.017837241291999817, 0.04598754644393921],\n",
        "    [0.09988793730735779, -0.042984504252672195, 0.49731141328811646],\n",
        "    [0.19997423887252808, -0.12800633907318115, 0.7662105560302734],\n",
        "    [0.2839599549770355, -0.15790560841560364, 0.9890708923339844],\n",
        "    [0.25834789872169495, -0.1484495848417282, 1.0383094549179077],\n",
        "    [0.1214284673333168, -0.27763035893440247, 0.6972872018814087],\n",
        "    [0.5021894574165344, -0.3403315544128418, 0.7038267850875854],\n",
        "    [0.8083858489990234, -0.22492514550685883, 0.8399868011474609],\n",
        "    [0.28172510862350464, 0.032603852450847626, 0.814943790435791],\n",
        "    [0.5423449873924255, 0.16511552035808563, 0.8454598188400269],\n",
        "    [0.7758111357688904, 0.07288538664579391, 0.922985315322876]\n",
        "]"
      ],
      "metadata": {
        "id": "PABXC6HF3MKo"
      },
      "execution_count": 14,
      "outputs": []
    },
    {
      "cell_type": "code",
      "source": [
        "# Access the active armature object\n",
        "armature_object = bpy.data.objects.get(\"girl\")\n",
        "\n",
        "# Check if the armature object exists\n",
        "if armature_object and armature_object.type == 'ARMATURE':\n",
        "    bpy.context.view_layer.objects.active = armature_object\n",
        "    bpy.ops.object.mode_set(mode='POSE')  # Switch to Pose Mode\n",
        "\n",
        "    # Set bone locations based on keypoint coordinates\n",
        "    for keypoint_name, blender_bone_name in keypoint_mapping.items():\n",
        "        # Check if the bone exists in the armature\n",
        "        if blender_bone_name in armature_object.pose.bones:\n",
        "            # Access the bone\n",
        "            bone = armature_object.pose.bones[blender_bone_name]\n",
        "\n",
        "            # Set the bone location based on keypoint coordinates\n",
        "            bone.location.x, bone.location.y, bone.location.z = keypoints[keypoint_mapping[keypoint_name]]\n",
        "\n",
        "    bpy.ops.object.mode_set(mode='OBJECT')  # Switch back to Object Mode\n",
        "    bpy.context.view_layer.update()\n",
        "\n",
        "else:\n",
        "    print(\"Armature 'girl' not found or is not an armature.\")\n"
      ],
      "metadata": {
        "id": "3XEwdqUI3McK"
      },
      "execution_count": null,
      "outputs": []
    }
  ]
}