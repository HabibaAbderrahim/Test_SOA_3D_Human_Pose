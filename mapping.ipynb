{
  "nbformat": 4,
  "nbformat_minor": 0,
  "metadata": {
    "colab": {
      "provenance": [],
      "authorship_tag": "ABX9TyNwh765+UEGCUeum/wCGUot",
      "include_colab_link": true
    },
    "kernelspec": {
      "name": "python3",
      "display_name": "Python 3"
    },
    "language_info": {
      "name": "python"
    }
  },
  "cells": [
    {
      "cell_type": "markdown",
      "metadata": {
        "id": "view-in-github",
        "colab_type": "text"
      },
      "source": [
        "<a href=\"https://colab.research.google.com/github/HabibaAbderrahim/Test_SOA_3D_Human_Pose/blob/main/mapping.ipynb\" target=\"_parent\"><img src=\"https://colab.research.google.com/assets/colab-badge.svg\" alt=\"Open In Colab\"/></a>"
      ]
    },
    {
      "cell_type": "code",
      "execution_count": 1,
      "metadata": {
        "colab": {
          "base_uri": "https://localhost:8080/"
        },
        "id": "QmPgNa2QXmT4",
        "outputId": "d38fca3a-e7b5-4dcd-80c4-bf1e70f773e2"
      },
      "outputs": [
        {
          "output_type": "stream",
          "name": "stdout",
          "text": [
            "Table saved to 'keypoints_table.txt'\n"
          ]
        }
      ],
      "source": [
        "# Define keypoint index and Human3.6M joint name associations\n",
        "keypoint_associations = {\n",
        "    0: 'Pelvis',\n",
        "    1: 'Right Hip',\n",
        "    2: 'Right Knee',\n",
        "    3: 'Right Ankle',\n",
        "    4: 'Left Hip',\n",
        "    5: 'Left Knee',\n",
        "    6: 'Left Ankle',\n",
        "    7: 'Thoracic',\n",
        "    8: 'Sternum',\n",
        "    9: 'Neck',\n",
        "    10: 'Head',\n",
        "    11: 'Right Shoulder',\n",
        "    12: 'Right Elbow',\n",
        "    13: 'Right Wrist',\n",
        "    14: 'Left Shoulder',\n",
        "    15: 'Left Elbow',\n",
        "    16: 'Left Wrist'\n",
        "}\n",
        "\n",
        "# Extract keypoint coordinates from the provided data\n",
        "keypoints = [\n",
        "    [-0.0, 0.0, 0.22871264815330505], [0.0893709734082222, 0.13970543444156647, 0.23328405618667603], [0.45591625571250916, -0.09024415910243988, 0.1627790629863739],\n",
        "     [0.08048535138368607, 0.10245823860168457, 0.18703943490982056], [-0.09170019626617432, -0.13583004474639893, 0.2244565486907959], [-0.48057764768600464, -0.2391510158777237, 0.0],\n",
        "      [-0.64947509765625, 0.017837241291999817, 0.04598754644393921], [0.09988793730735779, -0.042984504252672195, 0.49731141328811646], [0.19997423887252808, -0.12800633907318115, 0.7662105560302734], [0.2839599549770355, -0.15790560841560364, 0.9890708923339844],\n",
        "       [0.25834789872169495, -0.1484495848417282, 1.0383094549179077], [0.1214284673333168, -0.27763035893440247, 0.6972872018814087], [0.5021894574165344, -0.3403315544128418, 0.7038267850875854], [0.8083858489990234, -0.22492514550685883, 0.8399868011474609],\n",
        "     [0.28172510862350464, 0.032603852450847626, 0.814943790435791],\n",
        "    [0.5423449873924255, 0.16511552035808563, 0.8454598188400269], [0.7758111357688904, 0.07288538664579391, 0.922985315322876]\n",
        "]\n",
        "\n",
        "# Create a table string\n",
        "table_string = \"Keypoint Index\\tKeypoint Name\\tX\\tY\\tZ\\n\"\n",
        "for i, (x, y, z) in enumerate(keypoints):\n",
        "    keypoint_name = keypoint_associations[i]\n",
        "    table_string += f\"{i}\\t{keypoint_name}\\t{x}\\t{y}\\t{z}\\n\"\n",
        "\n",
        "# Save the table to a text file\n",
        "with open(\"keypoints_table.txt\", \"w\") as file:\n",
        "    file.write(table_string)\n",
        "\n",
        "print(\"Table saved to 'keypoints_table.txt'\")"
      ]
    }
  ]
}