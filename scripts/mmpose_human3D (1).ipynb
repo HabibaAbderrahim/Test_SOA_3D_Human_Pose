{
  "nbformat": 4,
  "nbformat_minor": 0,
  "metadata": {
    "colab": {
      "provenance": []
    },
    "kernelspec": {
      "name": "python3",
      "display_name": "Python 3"
    },
    "language_info": {
      "name": "python"
    }
  },
  "cells": [
    {
      "cell_type": "markdown",
      "source": [
        "###Refrence: https://mmpose.readthedocs.io/en/latest/user_guides/inference.html#python-api-more-flexible-and-customizable"
      ],
      "metadata": {
        "id": "R_1Ayt8XbryD"
      }
    },
    {
      "cell_type": "markdown",
      "source": [
        "I used this script in the CLI where i created a virtual env with all needed dependencies"
      ],
      "metadata": {
        "id": "h4LXqrGicXmQ"
      }
    },
    {
      "cell_type": "code",
      "execution_count": null,
      "metadata": {
        "id": "8uuecwKWbmhG"
      },
      "outputs": [],
      "source": [
        "from demo.inferencer_demo import MMPoseInferencer"
      ]
    },
    {
      "cell_type": "code",
      "source": [
        " #use yolox-pose\n",
        " inferencer = MMPoseInferencer(pose2d='yoloxpose_s_8xb32-300e_coco-640.py',pose2d_weights='yoloxpose_s_8xb32-300e_coco-640-56c79c1f_20230829.pth', pose3d='human3d')"
      ],
      "metadata": {
        "id": "SCORiD65cFjB"
      },
      "execution_count": null,
      "outputs": []
    },
    {
      "cell_type": "code",
      "source": [
        "input_images = 'tests/data/segbig/3_person_4_segmentation.jpg'"
      ],
      "metadata": {
        "id": "7iYwMb9_cMkZ"
      },
      "execution_count": null,
      "outputs": []
    },
    {
      "cell_type": "code",
      "source": [
        "result_generator = inferencer(input_images, show=True)"
      ],
      "metadata": {
        "id": "tOjHtJ1acSaQ"
      },
      "execution_count": null,
      "outputs": []
    },
    {
      "cell_type": "code",
      "source": [
        "result = next(result_generator)"
      ],
      "metadata": {
        "id": "C4aJeCsjcqkI"
      },
      "execution_count": null,
      "outputs": []
    },
    {
      "cell_type": "code",
      "source": [
        "keypoints_predictions = result['predictions']\n",
        " print(keypoints_predictions)"
      ],
      "metadata": {
        "id": "cghXGKyJcvQd"
      },
      "execution_count": null,
      "outputs": []
    },
    {
      "cell_type": "markdown",
      "source": [
        "save results in specific format if needed"
      ],
      "metadata": {
        "id": "N_MoCvePc8Qp"
      }
    },
    {
      "cell_type": "code",
      "source": [
        "import json\n"
      ],
      "metadata": {
        "id": "mli-ajrkdBHl"
      },
      "execution_count": null,
      "outputs": []
    },
    {
      "cell_type": "code",
      "source": [
        "# Save as JSON\n",
        "with open('keypoints_data.json', 'w') as json_file:\n",
        "  json.dump(keypoints_predictions, json_file)\n",
        "\n",
        "#save as txt\n",
        "keypoints_data_str = json.dumps(keypoints_predictions, indent=4)\n",
        "with open('keypoints_data.txt', 'w') as text_file:\n",
        "  text_file.write(keypoints_data_str)"
      ],
      "metadata": {
        "id": "btvQ3WhYdQ6L"
      },
      "execution_count": null,
      "outputs": []
    }
  ]
}