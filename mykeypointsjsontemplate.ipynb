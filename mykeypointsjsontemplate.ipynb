{
  "nbformat": 4,
  "nbformat_minor": 0,
  "metadata": {
    "colab": {
      "provenance": [],
      "authorship_tag": "ABX9TyOqH7wwBtJyqgpr4wYCqbrP",
      "include_colab_link": true
    },
    "kernelspec": {
      "name": "python3",
      "display_name": "Python 3"
    },
    "language_info": {
      "name": "python"
    }
  },
  "cells": [
    {
      "cell_type": "markdown",
      "metadata": {
        "id": "view-in-github",
        "colab_type": "text"
      },
      "source": [
        "<a href=\"https://colab.research.google.com/github/HabibaAbderrahim/Test_SOA_3D_Human_Pose/blob/main/mykeypointsjsontemplate.ipynb\" target=\"_parent\"><img src=\"https://colab.research.google.com/assets/colab-badge.svg\" alt=\"Open In Colab\"/></a>"
      ]
    },
    {
      "cell_type": "code",
      "execution_count": 1,
      "metadata": {
        "id": "SwlMqa7u2IJ0"
      },
      "outputs": [],
      "source": [
        "import json"
      ]
    },
    {
      "cell_type": "code",
      "source": [
        "keypoint_associations = {\n",
        "    0: 'Pelvis', 1: 'Right Hip', 2: 'Right Knee', 3: 'Right Ankle',\n",
        "    4: 'Left Hip', 5: 'Left Knee', 6: 'Left Ankle', 7: 'Thoracic',\n",
        "    8: 'Sternum', 9: 'Neck', 10: 'Head', 11: 'Right Shoulder',\n",
        "    12: 'Right Elbow', 13: 'Right Wrist', 14: 'Left Shoulder',\n",
        "    15: 'Left Elbow', 16: 'Left Wrist'\n",
        "}"
      ],
      "metadata": {
        "id": "usR3_b-s2LHo"
      },
      "execution_count": 2,
      "outputs": []
    },
    {
      "cell_type": "code",
      "source": [
        "keypoints = [\n",
        "    [-0.0, 0.0, 0.22871264815330505], [0.0893709734082222, 0.13970543444156647, 0.23328405618667603],\n",
        "    [0.45591625571250916, -0.09024415910243988, 0.1627790629863739], [0.08048535138368607, 0.10245823860168457, 0.18703943490982056],\n",
        "    [-0.09170019626617432, -0.13583004474639893, 0.2244565486907959], [-0.48057764768600464, -0.2391510158777237, 0.0],\n",
        "    [-0.64947509765625, 0.017837241291999817, 0.04598754644393921], [0.09988793730735779, -0.042984504252672195, 0.49731141328811646],\n",
        "    [0.19997423887252808, -0.12800633907318115, 0.7662105560302734], [0.2839599549770355, -0.15790560841560364, 0.9890708923339844],\n",
        "    [0.25834789872169495, -0.1484495848417282, 1.0383094549179077], [0.1214284673333168, -0.27763035893440247, 0.6972872018814087],\n",
        "    [0.5021894574165344, -0.3403315544128418, 0.7038267850875854], [0.8083858489990234, -0.22492514550685883, 0.8399868011474609],\n",
        "    [0.28172510862350464, 0.032603852450847626, 0.814943790435791], [0.5423449873924255, 0.16511552035808563, 0.8454598188400269],\n",
        "    [0.7758111357688904, 0.07288538664579391, 0.922985315322876]\n",
        "]"
      ],
      "metadata": {
        "id": "oUc2hzzG2N9F"
      },
      "execution_count": 3,
      "outputs": []
    },
    {
      "cell_type": "code",
      "source": [
        "transformed_data = {}\n",
        "for index, joint in keypoint_associations.items():\n",
        "    transformed_data[joint] = {\n",
        "        \"location\": keypoints[index],\n",
        "        \"rotation_euler\": [0.0, 0.0, 0.0],\n",
        "        \"scale\": [1.0, 1.0, 1.0]\n",
        "    }\n",
        "#save\n",
        "with open('transformed_data.json', 'w') as json_file:\n",
        "    json.dump(transformed_data, json_file, indent=4)"
      ],
      "metadata": {
        "id": "ZgaDa2Pd2Scn"
      },
      "execution_count": 4,
      "outputs": []
    }
  ]
}